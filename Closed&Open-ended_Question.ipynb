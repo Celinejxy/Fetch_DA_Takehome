{
 "cells": [
  {
   "cell_type": "code",
   "execution_count": 33,
   "metadata": {},
   "outputs": [],
   "source": [
    "#basic packages \n",
    "import pandas as pd\n",
    "import numpy as np\n",
    "import random\n",
    "import math\n",
    "from scipy import stats\n",
    "import pickle \n",
    "from itertools import combinations\n",
    "from collections import Counter\n",
    "import sqlite3\n",
    "#plot\n",
    "import matplotlib.pyplot as plt\n",
    "import seaborn as sns\n",
    "get_ipython().run_line_magic('matplotlib', 'inline')\n",
    "import plotly.express as px\n",
    "import plotly.graph_objects as pg\n",
    "from plotly import tools\n",
    "from plotly.subplots import make_subplots\n",
    "import plotly.io as pio\n",
    "pio.renderers.default = \"notebook_connected\"\n",
    "\n",
    "import warnings\n",
    "warnings.simplefilter(action='ignore', category=FutureWarning)"
   ]
  },
  {
   "cell_type": "code",
   "execution_count": 34,
   "metadata": {},
   "outputs": [],
   "source": [
    "user_df = pd.read_pickle('Cleaned Data/User.pkl')\n",
    "transaction_df = pd.read_pickle('Cleaned Data/Transaction.pkl')\n",
    "product_df = pd.read_pickle('Cleaned Data/Product.pkl')"
   ]
  },
  {
   "cell_type": "code",
   "execution_count": 35,
   "metadata": {},
   "outputs": [
    {
     "name": "stdout",
     "output_type": "stream",
     "text": [
      "Table 'Product' successfully written to the database.\n",
      "Table 'User' successfully written to the database.\n",
      "Table 'Transaction' successfully written to the database.\n"
     ]
    }
   ],
   "source": [
    "file_paths = {\n",
    "    \"Product\": \"Cleaned Data/Product.pkl\",\n",
    "    \"User\": \"Cleaned Data/User.pkl\",\n",
    "    \"Transaction\": \"Cleaned Data/Transaction.pkl\"\n",
    "}\n",
    "fetch = sqlite3.connect(\"Cleaned_Data.db\")\n",
    "for table_name, file_path in file_paths.items():\n",
    "    df = pd.read_pickle(file_path)\n",
    "    df.to_sql(table_name, fetch, if_exists=\"replace\", index=False)\n",
    "    print(f\"Table '{table_name}' successfully written to the database.\")"
   ]
  },
  {
   "cell_type": "markdown",
   "metadata": {},
   "source": [
    "##### <span style='color:Blue'> **II. OA Questions** </span>"
   ]
  },
  {
   "cell_type": "markdown",
   "metadata": {},
   "source": [
    "> <span style='color:Blue'> **II.1. Closed-ended Questions.**</span>"
   ]
  },
  {
   "cell_type": "code",
   "execution_count": 36,
   "metadata": {},
   "outputs": [
    {
     "name": "stdout",
     "output_type": "stream",
     "text": [
      "Product Table Schema:\n",
      "Column Name: CATEGORY_1, Data Type: TEXT\n",
      "Column Name: CATEGORY_2, Data Type: TEXT\n",
      "Column Name: CATEGORY_3, Data Type: TEXT\n",
      "Column Name: CATEGORY_4, Data Type: TEXT\n",
      "Column Name: MANUFACTURER, Data Type: TEXT\n",
      "Column Name: BRAND, Data Type: TEXT\n",
      "Column Name: BARCODE, Data Type: REAL\n"
     ]
    }
   ],
   "source": [
    "# Check schema for the 'Product' table\n",
    "cursor = fetch.cursor()\n",
    "cursor.execute(\"PRAGMA table_info(Product);\")\n",
    "product_schema = cursor.fetchall()\n",
    "\n",
    "print(\"Product Table Schema:\")\n",
    "for column in product_schema:\n",
    "    print(f\"Column Name: {column[1]}, Data Type: {column[2]}\")"
   ]
  },
  {
   "cell_type": "code",
   "execution_count": 37,
   "metadata": {},
   "outputs": [
    {
     "name": "stdout",
     "output_type": "stream",
     "text": [
      "\n",
      "User Table Schema:\n",
      "Column Name: ID, Data Type: TEXT\n",
      "Column Name: CREATED_DATE, Data Type: TIMESTAMP\n",
      "Column Name: BIRTH_DATE, Data Type: TIMESTAMP\n",
      "Column Name: STATE, Data Type: TEXT\n",
      "Column Name: LANGUAGE, Data Type: TEXT\n",
      "Column Name: GENDER, Data Type: TEXT\n"
     ]
    }
   ],
   "source": [
    "cursor.execute(\"PRAGMA table_info(User);\")\n",
    "user_schema = cursor.fetchall()\n",
    "\n",
    "print(\"\\nUser Table Schema:\")\n",
    "for column in user_schema:\n",
    "    print(f\"Column Name: {column[1]}, Data Type: {column[2]}\")"
   ]
  },
  {
   "cell_type": "code",
   "execution_count": 38,
   "metadata": {},
   "outputs": [
    {
     "name": "stdout",
     "output_type": "stream",
     "text": [
      "\n",
      "Transaction Table Schema:\n",
      "Column Name: RECEIPT_ID, Data Type: TEXT\n",
      "Column Name: PURCHASE_DATE, Data Type: TIMESTAMP\n",
      "Column Name: SCAN_DATE, Data Type: TIMESTAMP\n",
      "Column Name: STORE_NAME, Data Type: TEXT\n",
      "Column Name: USER_ID, Data Type: TEXT\n",
      "Column Name: BARCODE, Data Type: REAL\n",
      "Column Name: FINAL_QUANTITY, Data Type: REAL\n",
      "Column Name: FINAL_SALE, Data Type: REAL\n"
     ]
    }
   ],
   "source": [
    "cursor.execute(\"PRAGMA table_info('Transaction');\")\n",
    "transaction_schema = cursor.fetchall()\n",
    "\n",
    "print(\"\\nTransaction Table Schema:\")\n",
    "for column in transaction_schema:\n",
    "    print(f\"Column Name: {column[1]}, Data Type: {column[2]}\")"
   ]
  },
  {
   "cell_type": "markdown",
   "metadata": {},
   "source": [
    "> What are the top 5 brands by receipts scanned among users 21 and over?"
   ]
  },
  {
   "cell_type": "code",
   "execution_count": 39,
   "metadata": {},
   "outputs": [
    {
     "name": "stdout",
     "output_type": "stream",
     "text": [
      "Top 5 Brands by Receipts Scanned among Users 21 and Over:\n",
      "Brand: DOVE, Receipts Scanned: 3\n",
      "Brand: NERDS CANDY, Receipts Scanned: 3\n",
      "Brand: COCA-COLA, Receipts Scanned: 2\n",
      "Brand: GREAT VALUE, Receipts Scanned: 2\n",
      "Brand: HERSHEY'S, Receipts Scanned: 2\n"
     ]
    }
   ],
   "source": [
    "query = \"\"\"\n",
    "WITH AdultUsers AS (\n",
    "    SELECT ID\n",
    "    FROM User\n",
    "    WHERE julianday('now') - julianday(BIRTH_DATE) >= 21 * 365 \n",
    "),\n",
    "BrandReceipts AS (\n",
    "    SELECT p.BRAND, COUNT(t.RECEIPT_ID) AS receipt_count\n",
    "    FROM 'Transaction' t\n",
    "    JOIN Product p ON t.BARCODE = p.BARCODE\n",
    "    JOIN AdultUsers u ON t.USER_ID = u.ID\n",
    "    WHERE p.BRAND IS NOT NULL \n",
    "    GROUP BY p.BRAND\n",
    ")\n",
    "SELECT BRAND, receipt_count\n",
    "FROM BrandReceipts\n",
    "ORDER BY receipt_count DESC\n",
    "LIMIT 5;\n",
    "\"\"\"\n",
    "cursor.execute(query)\n",
    "top_5_brands = cursor.fetchall()\n",
    "print(\"Top 5 Brands by Receipts Scanned among Users 21 and Over:\")\n",
    "for brand, receipt_count in top_5_brands:\n",
    "    print(f\"Brand: {brand}, Receipts Scanned: {receipt_count}\")\n"
   ]
  },
  {
   "cell_type": "markdown",
   "metadata": {},
   "source": [
    "    >Python Approach"
   ]
  },
  {
   "cell_type": "code",
   "execution_count": 40,
   "metadata": {},
   "outputs": [
    {
     "name": "stdout",
     "output_type": "stream",
     "text": [
      "Top 5 Brands by Receipts Scanned among Users 21 and Over (Excluding None Values):\n",
      "              BRAND  RECEIPT_ID\n",
      "35      NERDS CANDY           3\n",
      "13             DOVE           3\n",
      "51  SOUR PATCH KIDS           2\n",
      "56          TRIDENT           2\n",
      "32           MEIJER           2\n"
     ]
    }
   ],
   "source": [
    "# Filter users who are 21 and over\n",
    "user_df['AGE'] = (pd.to_datetime('today').tz_localize('UTC') - user_df['BIRTH_DATE']).dt.days // 365\n",
    "adult_users = user_df[user_df['AGE'] >= 21]\n",
    "\n",
    "# Merge tbles\n",
    "merged_transaction = pd.merge(transaction_df, adult_users[['ID']], how='inner', left_on='USER_ID', right_on='ID')\n",
    "merged_data = pd.merge(merged_transaction, product_df[['BARCODE', 'BRAND']], how='inner', on='BARCODE')\n",
    "\n",
    "# Filter out rows where BRAND is None or NaN\n",
    "merged_data = merged_data[merged_data['BRAND'].notna()]\n",
    "\n",
    "# Group by BRAND and count the number of RECEIPT_ID (i.e., the number of transactions per brand)\n",
    "brand_receipt_count = merged_data.groupby('BRAND')['RECEIPT_ID'].count().reset_index()\n",
    "top_5_brands = brand_receipt_count.sort_values(by='RECEIPT_ID', ascending=False).head(5)\n",
    "\n",
    "print(\"Top 5 Brands by Receipts Scanned among Users 21 and Over (Excluding None Values):\")\n",
    "print(top_5_brands)"
   ]
  },
  {
   "cell_type": "markdown",
   "metadata": {},
   "source": [
    "> What are the top 5 brands by sales among users that have had their account for at least six months?"
   ]
  },
  {
   "cell_type": "code",
   "execution_count": 41,
   "metadata": {},
   "outputs": [
    {
     "name": "stdout",
     "output_type": "stream",
     "text": [
      "Top 5 Brands by Sales among Users with Accounts for At Least Six Months (Excluding None Values):\n",
      "Brand: CVS, Total Sales: 72.0\n",
      "Brand: DOVE, Total Sales: 30.91\n",
      "Brand: TRIDENT, Total Sales: 23.36\n",
      "Brand: COORS LIGHT, Total Sales: 17.48\n",
      "Brand: TRESEMMÉ, Total Sales: 14.58\n"
     ]
    }
   ],
   "source": [
    "query = \"\"\"\n",
    "WITH LongTermUsers AS (\n",
    "    SELECT ID\n",
    "    FROM User\n",
    "    WHERE julianday('now') - julianday(CREATED_DATE) >= 180\n",
    "),\n",
    "BrandSales AS (\n",
    "    SELECT p.BRAND, SUM(t.FINAL_SALE) AS total_sales\n",
    "    FROM 'Transaction' t\n",
    "    JOIN Product p ON t.BARCODE = p.BARCODE\n",
    "    JOIN LongTermUsers u ON t.USER_ID = u.ID\n",
    "    WHERE p.BRAND IS NOT NULL \n",
    "    GROUP BY p.BRAND\n",
    ")\n",
    "SELECT BRAND, total_sales\n",
    "FROM BrandSales\n",
    "ORDER BY total_sales DESC\n",
    "LIMIT 5;\n",
    "\"\"\"\n",
    "\n",
    "# Execute the query\n",
    "cursor.execute(query)\n",
    "\n",
    "# Fetch the results\n",
    "top_5_brands_by_sales = cursor.fetchall()\n",
    "\n",
    "# Print the results\n",
    "print(\"Top 5 Brands by Sales among Users with Accounts for At Least Six Months (Excluding None Values):\")\n",
    "for brand, total_sales in top_5_brands_by_sales:\n",
    "    print(f\"Brand: {brand}, Total Sales: {total_sales}\")\n"
   ]
  },
  {
   "cell_type": "markdown",
   "metadata": {},
   "source": [
    "    > Python Approach"
   ]
  },
  {
   "cell_type": "code",
   "execution_count": 42,
   "metadata": {},
   "outputs": [
    {
     "name": "stdout",
     "output_type": "stream",
     "text": [
      "                         ID  account_age_months\n",
      "0  5ef3b4f17053ab141787697d           55.733333\n",
      "1  5ff220d383fcfc12622b96bc           49.300000\n",
      "2  6477950aa55bb77a0e27ee10           20.033333\n",
      "3  658a306e99b40f103b63ccf8           13.066667\n",
      "4  653cf5d6a225ea102b7ecdc2           15.033333\n"
     ]
    }
   ],
   "source": [
    "current_date = pd.to_datetime('today').tz_localize('UTC')\n",
    "user_df['account_age_months'] = (current_date - user_df['CREATED_DATE']).dt.days / 30\n",
    "\n",
    "# Filter users who have had an account for at least 6 months\n",
    "long_term_users_df = user_df[user_df['account_age_months'] >= 6]\n",
    "print(long_term_users_df[['ID', 'account_age_months']].head())"
   ]
  },
  {
   "cell_type": "code",
   "execution_count": 43,
   "metadata": {},
   "outputs": [
    {
     "name": "stdout",
     "output_type": "stream",
     "text": [
      "          BRAND  FINAL_SALE\n",
      "9           CVS       72.00\n",
      "13         DOVE       30.91\n",
      "56      TRIDENT       23.36\n",
      "7   COORS LIGHT       17.48\n",
      "55     TRESEMMÉ       14.58\n"
     ]
    }
   ],
   "source": [
    "transaction_filtered = transaction_df[transaction_df['USER_ID'].isin(long_term_users_df['ID'])]\n",
    "merged_df = pd.merge(transaction_filtered, product_df[['BARCODE', 'BRAND']], on='BARCODE', how='inner')\n",
    "\n",
    "# Group by BRAND and calculate total sales\n",
    "brand_sales = merged_df.groupby('BRAND')['FINAL_SALE'].sum().reset_index()\n",
    "top_5_brands_by_sales = brand_sales.sort_values(by='FINAL_SALE', ascending=False).head(5)\n",
    "print(top_5_brands_by_sales)"
   ]
  },
  {
   "cell_type": "markdown",
   "metadata": {},
   "source": [
    "> <span style='color:Blue'> **II.2. Open-ended Questions.**</span>"
   ]
  },
  {
   "cell_type": "markdown",
   "metadata": {},
   "source": [
    "> **Who are Fetch’s power users?**\n",
    "\n",
    "- Power User Definition:\n",
    "\n",
    "    - Frequent Transactions: A user is considered a power user if their transaction count is greater than the average number of transactions across all users.\n",
    "\n",
    "    - High Spending: A user is considered a power user if their total spending is greater than the average total spending across all users.\n",
    "    \n",
    "    - Diverse Product Range: A user is considered a power user if they have bought from more product categories than the average number of categories purchased across all users."
   ]
  },
  {
   "cell_type": "code",
   "execution_count": 44,
   "metadata": {},
   "outputs": [
    {
     "name": "stdout",
     "output_type": "stream",
     "text": [
      "Power Users (Above Average in Transactions, Spending, and Categories):\n",
      "User ID: 64063c8880552327897186a5\n",
      "Total Transactions: 7\n",
      "Total Spending: $28.669999999999998\n",
      "Categories Purchased From: 3\n",
      "\n",
      "User ID: 5e89fe8918bf1a13ef5d874c\n",
      "Total Transactions: 5\n",
      "Total Spending: $28.830000000000002\n",
      "Categories Purchased From: 2\n",
      "\n",
      "User ID: 62b6189d37e6e08b0774ce73\n",
      "Total Transactions: 5\n",
      "Total Spending: $20.97\n",
      "Categories Purchased From: 3\n",
      "\n",
      "User ID: 62e6f1ce48cc274645652f44\n",
      "Total Transactions: 5\n",
      "Total Spending: $20.11\n",
      "Categories Purchased From: 3\n",
      "\n",
      "User ID: 60a42b33f29c34057f5e46a9\n",
      "Total Transactions: 5\n",
      "Total Spending: $18.77\n",
      "Categories Purchased From: 2\n",
      "\n",
      "User ID: 62925c1be942f00613f7365e\n",
      "Total Transactions: 5\n",
      "Total Spending: $15.64\n",
      "Categories Purchased From: 2\n",
      "\n",
      "User ID: 5f906764542e501679d188f4\n",
      "Total Transactions: 4\n",
      "Total Spending: $52.93\n",
      "Categories Purchased From: 2\n",
      "\n",
      "User ID: 60316ede521dd912dc83e2d6\n",
      "Total Transactions: 4\n",
      "Total Spending: $38.26\n",
      "Categories Purchased From: 2\n",
      "\n",
      "User ID: 64432ac1ee6ac839f8c93429\n",
      "Total Transactions: 4\n",
      "Total Spending: $37.95\n",
      "Categories Purchased From: 2\n",
      "\n",
      "User ID: 5da24a23f310ed3d8f816427\n",
      "Total Transactions: 4\n",
      "Total Spending: $31.89\n",
      "Categories Purchased From: 3\n",
      "\n"
     ]
    }
   ],
   "source": [
    "cursor.execute(\"\"\"\n",
    "    WITH user_sales AS (\n",
    "        SELECT t.USER_ID,\n",
    "            COUNT(t.RECEIPT_ID) AS total_transactions,\n",
    "            SUM(t.FINAL_SALE) AS total_spending,\n",
    "            COUNT(DISTINCT p.CATEGORY_1) AS categories_bought\n",
    "        FROM 'Transaction' t\n",
    "        JOIN Product p ON t.BARCODE = p.BARCODE\n",
    "        GROUP BY t.USER_ID\n",
    "    ),\n",
    "    averages AS (\n",
    "        SELECT \n",
    "            AVG(total_transactions) AS avg_transactions,\n",
    "            AVG(total_spending) AS avg_spending,\n",
    "            AVG(categories_bought) AS avg_categories\n",
    "        FROM user_sales\n",
    "    )\n",
    "    SELECT \n",
    "        us.USER_ID,\n",
    "        us.total_transactions,\n",
    "        us.total_spending,\n",
    "        us.categories_bought\n",
    "    FROM user_sales us, averages a\n",
    "    WHERE \n",
    "        us.total_transactions > a.avg_transactions\n",
    "        AND us.total_spending > a.avg_spending\n",
    "        AND us.categories_bought > a.avg_categories\n",
    "    ORDER BY us.total_transactions DESC, us.total_spending DESC, us.categories_bought DESC\n",
    "    LIMIT 10\n",
    "\"\"\")\n",
    "\n",
    "filtered_users = cursor.fetchall()\n",
    "print(\"Power Users (Above Average in Transactions, Spending, and Categories):\")\n",
    "for user in filtered_users:\n",
    "    user_id, total_transactions, total_spending, categories_bought = user\n",
    "    print(f\"User ID: {user_id}\")\n",
    "    print(f\"Total Transactions: {total_transactions}\")\n",
    "    print(f\"Total Spending: ${total_spending}\")\n",
    "    print(f\"Categories Purchased From: {categories_bought}\\n\")\n"
   ]
  },
  {
   "cell_type": "markdown",
   "metadata": {},
   "source": [
    "> Which is the leading brand in the Dips & Salsa category?\n",
    "\n",
    "- Leading Brand Definition:\n",
    "\n",
    "The leading brand in the Dips & Salsa category is defined as the brand that has generated the highest total sales (sum of FINAL_SALE) within the category. This metric reflects the brand's sales performance and customer preference in this product segment.\n",
    "\n",
    "In the case of a tie in sales, we could extend this definition to consider other metrics such as number of unique users who purchased from the brand, but given there were not many common user ID between Transaction and User table, we are focusing purely on total sales."
   ]
  },
  {
   "cell_type": "code",
   "execution_count": 45,
   "metadata": {},
   "outputs": [
    {
     "name": "stdout",
     "output_type": "stream",
     "text": [
      "'Dips & Salsa' found in column: CATEGORY_2\n"
     ]
    }
   ],
   "source": [
    "for col in product_df.select_dtypes(include=['object']).columns:\n",
    "    if product_df[col].str.contains(\"Dips & Salsa\", na=False).any():\n",
    "        print(f\"'Dips & Salsa' found in column: {col}\")"
   ]
  },
  {
   "cell_type": "code",
   "execution_count": 46,
   "metadata": {},
   "outputs": [
    {
     "name": "stdout",
     "output_type": "stream",
     "text": [
      "Top 5 leading brands in the Dips & Salsa category:\n",
      "TOSTITOS: $181.30\n",
      "None: $100.97\n",
      "GOOD FOODS: $94.91\n",
      "PACE: $85.75\n",
      "FRITOS: $67.16\n"
     ]
    }
   ],
   "source": [
    "leading_brand_query = \"\"\"\n",
    "    SELECT \n",
    "        p.BRAND, \n",
    "        SUM(t.FINAL_SALE) AS total_sales\n",
    "    FROM 'Transaction' t\n",
    "    JOIN Product p ON t.BARCODE = p.BARCODE\n",
    "    WHERE p.CATEGORY_2 = 'Dips & Salsa'  \n",
    "    GROUP BY p.BRAND\n",
    "    ORDER BY total_sales DESC\n",
    "    LIMIT 5\n",
    "\"\"\"\n",
    "\n",
    "cursor.execute(leading_brand_query)\n",
    "leading_brands = cursor.fetchall()  # Fetch all rows\n",
    "if leading_brands:\n",
    "    print(\"Top 5 leading brands in the Dips & Salsa category:\")\n",
    "    for brand, total_sales in leading_brands:\n",
    "        print(f\"{brand}: ${total_sales:.2f}\")\n",
    "else:\n",
    "    print(\"No brands found in the Dips & Salsa category.\")\n"
   ]
  },
  {
   "cell_type": "code",
   "execution_count": 47,
   "metadata": {},
   "outputs": [],
   "source": [
    "fetch.close()"
   ]
  }
 ],
 "metadata": {
  "kernelspec": {
   "display_name": "python3_11",
   "language": "python",
   "name": "python3"
  },
  "language_info": {
   "codemirror_mode": {
    "name": "ipython",
    "version": 3
   },
   "file_extension": ".py",
   "mimetype": "text/x-python",
   "name": "python",
   "nbconvert_exporter": "python",
   "pygments_lexer": "ipython3",
   "version": "3.11.9"
  }
 },
 "nbformat": 4,
 "nbformat_minor": 2
}
